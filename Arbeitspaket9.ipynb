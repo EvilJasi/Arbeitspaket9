{
 "cells": [
  {
   "cell_type": "markdown",
   "id": "4986f2ef-b95c-4f10-9582-6c2b163b5dad",
   "metadata": {},
   "source": [
    "# Arbeitspaket 9"
   ]
  },
  {
   "cell_type": "markdown",
   "id": "d8ed7e5e-b1bf-4bad-8d15-c78f77dd7f25",
   "metadata": {},
   "source": [
    "## Aufgabe 1"
   ]
  },
  {
   "cell_type": "code",
   "execution_count": 12,
   "id": "06671694-ebd3-46b9-aec3-cef29869390c",
   "metadata": {},
   "outputs": [
    {
     "data": {
      "text/html": [
       "<style>.container{width:60% !important; }</style>"
      ],
      "text/plain": [
       "<IPython.core.display.HTML object>"
      ]
     },
     "metadata": {},
     "output_type": "display_data"
    }
   ],
   "source": [
    "from IPython.display import display, HTML\n",
    "display(HTML('<style>.container{width:60% !important; }</style>'))"
   ]
  },
  {
   "cell_type": "code",
   "execution_count": 13,
   "id": "422cf182-4a01-4c38-93a2-e86df5276b34",
   "metadata": {},
   "outputs": [],
   "source": [
    "from __future__ import print_function\n",
    "from ipywidgets import interact, interactive, fixed, interact_manual\n",
    "import ipywidgets as widgets\n",
    "from ipywidgets import Box\n",
    "\n",
    "import builtins"
   ]
  },
  {
   "cell_type": "markdown",
   "id": "9b93773a-1722-4889-bb98-86db5695a932",
   "metadata": {},
   "source": [
    "<span style=\"font-size:30px;background-color:red\">Text</span>"
   ]
  },
  {
   "cell_type": "markdown",
   "id": "e3c190dd-ba11-4faa-88d4-096f6d143d3d",
   "metadata": {},
   "source": [
    "<div class=\"alert alert-block alert-warning\"><b>Success:</b> This alert box indicates a successful or positive action.</div>"
   ]
  },
  {
   "cell_type": "markdown",
   "id": "894c7535-725a-4d50-9547-72a176773aaa",
   "metadata": {},
   "source": [
    "Individuen ziehen eine bestimmten Nutzen aus einer bestimmten Menge an Einkommen. Wie hoch dieser Nutzen ist, lässt sich anhand der Nutzenfunktion $ U(y)$ bestimmen. \n",
    "Diese Nutzenfunktion ermöglicht es den Individuen zu bestimment, welches Einkommen welchen Nutzen erzielt.\n",
    "\n",
    "Nehmen Sie an, die Nutzenfunktion hat die Form\n",
    "\n",
    "$$ U(y) = ay^{b} $$\n",
    "\n",
    "Nutzen Sie die den Slider um zu erkunden, wie sich die Form der Nutzenfunktion verändert, wenn sich die Parameter ändern."
   ]
  },
  {
   "cell_type": "code",
   "execution_count": 2,
   "id": "462cf925-34ef-4a7d-9349-a1c107f47b08",
   "metadata": {},
   "outputs": [
    {
     "data": {
      "application/vnd.jupyter.widget-view+json": {
       "model_id": "61831853a7de4fd6b43cabd1abba432d",
       "version_major": 2,
       "version_minor": 0
      },
      "text/plain": [
       "interactive(children=(IntSlider(value=5, description='a', max=10), FloatSlider(value=0.5, description='b', max…"
      ]
     },
     "execution_count": 2,
     "metadata": {},
     "output_type": "execute_result"
    }
   ],
   "source": [
    "%matplotlib inline\n",
    "from ipywidgets import interactive\n",
    "import matplotlib.pyplot as plt\n",
    "import numpy as np\n",
    "\n",
    "def f(a,b):\n",
    "    plt.figure(2)\n",
    "    x = np.linspace(0, 1000, num=1000)\n",
    "    plt.plot(x, a*x**(b))\n",
    "    plt.ylim(0, 100)\n",
    "    plt.show()\n",
    "    \n",
    "interactive_plot = interactive(f, a=(0, 10, 1), b=(0.1, 1, 0.1))\n",
    "output = interactive_plot.children[-1]\n",
    "interactive_plot"
   ]
  },
  {
   "cell_type": "code",
   "execution_count": null,
   "id": "949f9250-a33a-4000-a630-2f866abc02cf",
   "metadata": {},
   "outputs": [],
   "source": []
  },
  {
   "cell_type": "markdown",
   "id": "67d3d46b-f83b-4c71-96d7-39ea31043089",
   "metadata": {},
   "source": [
    "Welchen Nutzen hat ein Euro zusätzliches Einkommen?"
   ]
  },
  {
   "cell_type": "markdown",
   "id": "5fe376a6-7555-4f01-ab78-1f181cd25fd5",
   "metadata": {},
   "source": [
    "Oftmals ist dem Individuum nicht bekannt, welches Einkommen es am Markt erzeilen wird. Betrachten wir den Fall von Bauer Bruno. Bauer Bruno hat die Nutzenfunktion\n",
    "\n",
    "$$ U(y) = y^{0.5} $$\n",
    "\n",
    "Bauer Bruno weiß, dass sein Einkommen bei schlechtem Wetter bei $ \\underline{y} = 100 $ liegen wird wärhrend es bei gutem Wetter bei $ \\overline{y} = 1000 $ liegen wird.\n",
    "\n",
    "Berechnen Sie den Nutzen von Bruno bei gutem und bei schlechtem Wetter. Nutzen Sie den Slider um Ihr Ergebnis zu verifizieren."
   ]
  },
  {
   "cell_type": "code",
   "execution_count": 3,
   "id": "af805c13-1b95-4eca-9069-a6aed6bdedff",
   "metadata": {},
   "outputs": [],
   "source": [
    "def f(y):\n",
    "    return y**0.5"
   ]
  },
  {
   "cell_type": "code",
   "execution_count": 4,
   "id": "386908c1-1788-4db6-abb9-7db29b06b4a4",
   "metadata": {
    "tags": []
   },
   "outputs": [
    {
     "data": {
      "application/vnd.jupyter.widget-view+json": {
       "model_id": "073d05b6ccf54dda9056715bbcd80467",
       "version_major": 2,
       "version_minor": 0
      },
      "text/plain": [
       "interactive(children=(IntSlider(value=550, description='y', max=1000, min=100), Output()), _dom_classes=('widg…"
      ]
     },
     "metadata": {},
     "output_type": "display_data"
    },
    {
     "name": "stdout",
     "output_type": "stream",
     "text": [
      "Nutzen\n"
     ]
    }
   ],
   "source": [
    "interact(f, y=(100,1000,1));\n",
    "print('Nutzen')"
   ]
  },
  {
   "cell_type": "markdown",
   "id": "4782ba08-b898-4ca6-b1b1-590fb15d5947",
   "metadata": {},
   "source": [
    "Bruno schaut den Wetterbericht und kennt somit die Wahrscheinlichkeit $p$ mit der gutes Wetter auftreten wird. Mithilfe dieser Wahrscheinlichkeit kann er seinen Erwartungsnutzen berechnen.\n",
    "\n",
    "Berechenen Sie den Erwartungsnutzen für die unten beschriebenen Wetterverhältnisse."
   ]
  },
  {
   "cell_type": "code",
   "execution_count": 5,
   "id": "b4e68042-af24-45cb-9287-bd92096115b9",
   "metadata": {},
   "outputs": [
    {
     "data": {
      "application/vnd.jupyter.widget-view+json": {
       "model_id": "86c003fcd56241efbe0723fa62c8d793",
       "version_major": 2,
       "version_minor": 0
      },
      "text/plain": [
       "Tab(children=(Box(children=(Image(value=b'\\x89PNG\\r\\n\\x1a\\n\\x00\\x00\\x00\\rIHDR\\x00\\x00\\x00\\xd1\\x00\\x00\\x00f\\x08…"
      ]
     },
     "execution_count": 5,
     "metadata": {},
     "output_type": "execute_result"
    }
   ],
   "source": [
    "text = widgets.Textarea(\n",
    "        value=\"Im Westen und auf der Nordsee steife Windböen, auf exponierten Bergen stürmisch. Das Regenrisiko beträgt 70%\",\n",
    "        placeholder='Some LaTeX',\n",
    "        disabled=False\n",
    "    )\n",
    "text\n",
    "\n",
    "lösung = widgets.Label(\n",
    "        value=\"$$ E[u(y)] = 0.5 (1000)^{0.5} + (1-0.5) (100)^{0.5} $$\",\n",
    "        placeholder='Some LaTeX',\n",
    "        description='Some LaTeX',\n",
    "        disabled=False\n",
    "    )\n",
    "lösung\n",
    "\n",
    "lösung2 = widgets.Label(\n",
    "        value=\"$$ u(E[y]) = (0.5 \\\\times 1000 + (1-0.5) \\\\times 100)^{0.5}$$\",\n",
    "        placeholder='Some LaTeX',\n",
    "        description='Some LaTeX',\n",
    "        disabled=False\n",
    "    )\n",
    "lösung2\n",
    "\n",
    "## Bilder einfügen\n",
    "file = builtins.open(\"Bilder/Regen.png\", \"rb\")\n",
    "image = file.read()\n",
    "bild = widgets.Image(\n",
    "    value=image,\n",
    "    format='png',\n",
    "    width=128,\n",
    "    height=128,\n",
    "    )\n",
    "bild\n",
    "\n",
    "items = [bild,text]\n",
    "box = Box(children=items)\n",
    "\n",
    "\n",
    "tab_nest = widgets.Tab()\n",
    "tab_nest.children = [box,lösung,lösung2]\n",
    "tab_nest.set_title(0, 'Wetterbericht')\n",
    "tab_nest.set_title(1, 'Erwartungsnutzen')\n",
    "tab_nest.set_title(2, 'Durchschnittsnutzen')\n",
    "tab_nest\n"
   ]
  },
  {
   "cell_type": "code",
   "execution_count": 6,
   "id": "a5265ac3-3bef-4d01-8e35-11feb21ce78b",
   "metadata": {},
   "outputs": [
    {
     "data": {
      "application/vnd.jupyter.widget-view+json": {
       "model_id": "b98f2957a569495cb2ffaaaa95178914",
       "version_major": 2,
       "version_minor": 0
      },
      "text/plain": [
       "Tab(children=(Box(children=(Image(value=b'\\x89PNG\\r\\n\\x1a\\n\\x00\\x00\\x00\\rIHDR\\x00\\x00\\x00\\xd7\\x00\\x00\\x00p\\x08…"
      ]
     },
     "execution_count": 6,
     "metadata": {},
     "output_type": "execute_result"
    }
   ],
   "source": [
    "text = widgets.Textarea(\n",
    "        value=\"Dank Hoch Sabine erwarten uns sonnige Tage. Das Regenrisiko liegt bei lediglich 5%.\",\n",
    "        placeholder='Some LaTeX',\n",
    "        disabled=False\n",
    "    )\n",
    "text\n",
    "\n",
    "lösung = widgets.Label(\n",
    "        value=\"$$ E[u(y)] = 0.5 (1000)^{0.5} + (1-0.5) (100)^{0.5} $$\",\n",
    "        placeholder='Some LaTeX',\n",
    "        description='Some LaTeX',\n",
    "        disabled=False\n",
    "    )\n",
    "lösung\n",
    "\n",
    "lösung2 = widgets.Label(\n",
    "        value=\"$$ u(E[y]) = (0.5 \\\\times 1000 + (1-0.5) \\\\times 100)^{0.5}$$\",\n",
    "        placeholder='Some LaTeX',\n",
    "        description='Some LaTeX',\n",
    "        disabled=False\n",
    "    )\n",
    "lösung2\n",
    "\n",
    "## Bilder einfügen\n",
    "file = builtins.open(\"Bilder/Sonne.png\", \"rb\")\n",
    "image = file.read()\n",
    "bild = widgets.Image(\n",
    "    value=image,\n",
    "    format='png',\n",
    "    width=128,\n",
    "    height=128,\n",
    "    )\n",
    "bild\n",
    "\n",
    "items = [bild,text]\n",
    "box = Box(children=items)\n",
    "\n",
    "tab_nest = widgets.Tab()\n",
    "tab_nest.children = [box,lösung,lösung2]\n",
    "tab_nest.set_title(0, 'Wetterbericht')\n",
    "tab_nest.set_title(1, 'Erwartungsnutzen')\n",
    "tab_nest.set_title(2, 'Durchschnittsnutzen')\n",
    "tab_nest"
   ]
  },
  {
   "cell_type": "markdown",
   "id": "51669ab9-70eb-4177-b22f-23934293f403",
   "metadata": {},
   "source": [
    "Vergleichen Sie für beide Fälle Brunos Durchschnitts- und den Erwartungsnutzen.\n",
    "Welche Aussage können Sie über Brunos Risikopräferenzen treffen?"
   ]
  },
  {
   "cell_type": "code",
   "execution_count": 34,
   "id": "b1671efa-2f86-4e26-82e1-5f3a16aa92fa",
   "metadata": {},
   "outputs": [],
   "source": [
    "slider = widgets.Dropdown(\n",
    "    options=[('Risikoavers', 1), ('Risikoneutral', 2), ('Risikoliebend', 3)],\n",
    "    value=2,\n",
    "    description='Präferenz:',\n",
    ")\n",
    "\n",
    "\n",
    "output = widgets.Text(\n",
    "    value='',\n",
    "    disabled=True\n",
    ")\n",
    "\n",
    "\n",
    "button = widgets.Button(\n",
    "    description='Auswertung',\n",
    "    disabled=False,\n",
    "    button_style='', # 'success', 'info', 'warning', 'danger' or ''\n",
    "    tooltip='Bitte klicken.',\n",
    "    #icon='check' # (FontAwesome names without the `fa-` prefix)\n",
    ")\n",
    "\n",
    "# define function\n",
    "def check(button_instance):\n",
    "  if slider.value == 1:\n",
    "    output.value = 'Richtig, Bruno ist risikoavers.'\n",
    "    button.button_style = 'success'\n",
    "    bild.width=1,\n",
    "    bild.height=1,\n",
    "  else:\n",
    "    output.value = 'Das ist leider falsch.'\n",
    "    button.button_style = 'danger'\n",
    "\n",
    "# set function as on_click on button\n",
    "button.on_click(check)"
   ]
  },
  {
   "cell_type": "code",
   "execution_count": 35,
   "id": "197b8c81-8156-4a60-a72b-a505f059480a",
   "metadata": {},
   "outputs": [
    {
     "data": {
      "application/vnd.jupyter.widget-view+json": {
       "model_id": "d7eface137a449ffb317fc116c2c40e1",
       "version_major": 2,
       "version_minor": 0
      },
      "text/plain": [
       "Box(children=(Dropdown(description='Präferenz:', index=1, options=(('Risikoavers', 1), ('Risikoneutral', 2), (…"
      ]
     },
     "metadata": {},
     "output_type": "display_data"
    }
   ],
   "source": [
    "# nebeneinander in Box anzeigen\n",
    "\n",
    "items = [slider, button, output]\n",
    "box = Box(children=items)\n",
    "display(box) # <- this one command displays all children"
   ]
  },
  {
   "cell_type": "markdown",
   "id": "920c6d33-b529-411e-a66e-fba7b0e78658",
   "metadata": {},
   "source": [
    "## Aufgabe 2"
   ]
  },
  {
   "cell_type": "markdown",
   "id": "85e8bd57-61ec-4ce3-8087-0120cefa513b",
   "metadata": {},
   "source": [
    "Nun gehen wir davon aus, das nicht das Wetter, sondern der Anteil an reichen und armen Menschen in der Gesamtbevölkerung die Wahrscheinlichkeit $p$ des Individuums beeinflusst ein hohes oder geringes Einkommen zu haben.\n",
    "\n",
    "Je höher der Anteil an reichen Menschen in der Bevölkerung, desto höher die Wahrscheinlichkeit für Individuum $i$ ebenfalls zu dieser Gruppe zu gehören.\n",
    "Diese Wahrscheinlichkeit $p$ entspricht somit dem Anteil an reichen Personen revaltiv zur Gesamtbevölkerung.\n",
    "\n",
    "$ p = \\frac{r}{a+r}$\n",
    "\n",
    "mit $r =$ Anzahl reiche Menschen und $a =$ Anzahl arme Menschen"
   ]
  },
  {
   "cell_type": "markdown",
   "id": "9cda6811-27cd-4995-8424-2aa25493b041",
   "metadata": {},
   "source": [
    "In Deutschland gilt eine Person als Armutsgefährdet, wenn sie über weinger als 60 % des mittleren Einkommens der Gesamtbevölkerung verfügt. Nutzen Sie unternstehende Grafik, um die Höhe des mittleren Einkommens der Gesamtbevölkerung zu bestimmen."
   ]
  },
  {
   "cell_type": "code",
   "execution_count": 9,
   "id": "9f4a206e-375a-45f1-8b0b-46a86a17e48d",
   "metadata": {},
   "outputs": [
    {
     "name": "stderr",
     "output_type": "stream",
     "text": [
      "c:\\users\\jwalter\\appdata\\local\\programs\\python\\python37\\lib\\site-packages\\IPython\\core\\display.py:724: UserWarning: Consider using IPython.display.IFrame instead\n",
      "  warnings.warn(\"Consider using IPython.display.IFrame instead\")\n"
     ]
    },
    {
     "data": {
      "text/html": [
       "<iframe width=\"100%\" height=\"900\" src=\"https://www.iwkoeln.de/fileadmin/user_upload/HTML/2021/Einkommensverteilung/index.html\" frameborder=\"0\" allowfullscreen></iframe>"
      ],
      "text/plain": [
       "<IPython.core.display.HTML object>"
      ]
     },
     "execution_count": 9,
     "metadata": {},
     "output_type": "execute_result"
    }
   ],
   "source": [
    "from IPython.core.display import HTML\n",
    "HTML('<iframe width=\"100%\" height=\"900\" src=\"https://www.iwkoeln.de/fileadmin/user_upload/HTML/2021/Einkommensverteilung/index.html\" frameborder=\"0\" allowfullscreen></iframe>')"
   ]
  },
  {
   "cell_type": "code",
   "execution_count": 10,
   "id": "3af33a3c-6771-4f5a-a37f-1296c66f9256",
   "metadata": {},
   "outputs": [],
   "source": [
    "median = widgets.IntText(\n",
    "    value=2000,\n",
    "    description='Mittleres Einkommen:',\n",
    "    disabled=False\n",
    ")\n",
    "\n",
    "\n",
    "\n",
    "output = widgets.Text(\n",
    "    value='',\n",
    "    disabled=True\n",
    ")\n",
    "\n",
    "\n",
    "button = widgets.Button(\n",
    "    description='Auswertung',\n",
    "    disabled=False,\n",
    "    button_style='', # 'success', 'info', 'warning', 'danger' or ''\n",
    "    tooltip='Bitte klicken.',\n",
    "    #icon='check' # (FontAwesome names without the `fa-` prefix)\n",
    ")\n",
    "\n",
    "\n",
    "# define function\n",
    "def check(button_instance):\n",
    "  if median.value == 2028:\n",
    "    output.value = 'Richtig, das ist das mittlere Einkommen.'\n",
    "    button.button_style = 'success'\n",
    "  elif median.value > 2028:\n",
    "    output.value = 'Das mittlere Einkommen ist geringer.'\n",
    "    button.button_style = 'danger'\n",
    "  elif median.value < 2028:\n",
    "    output.value = 'Das mittlere Einkommen ist höher.'\n",
    "    button.button_style = 'danger'\n",
    "  else:\n",
    "    output.value = 'Das mittlere Einkommen ist höher.'\n",
    "    button.button_style = 'danger'\n",
    "\n",
    "# set function as on_click on button\n",
    "button.on_click(check)"
   ]
  },
  {
   "cell_type": "code",
   "execution_count": 11,
   "id": "ab2affc7-2fdb-4f8b-ba38-c254606d4e43",
   "metadata": {},
   "outputs": [
    {
     "data": {
      "application/vnd.jupyter.widget-view+json": {
       "model_id": "5d0ae487e53341be988ee4eb23e07a72",
       "version_major": 2,
       "version_minor": 0
      },
      "text/plain": [
       "Box(children=(IntText(value=2000, description='Mittleres Einkommen:'), Button(description='Auswertung', style=…"
      ]
     },
     "metadata": {},
     "output_type": "display_data"
    }
   ],
   "source": [
    "# nebeneinander in Box anzeigen\n",
    "items = [median, button, output, bild]\n",
    "box = Box(children=items)\n",
    "display(box) # <- this one command displays all children"
   ]
  },
  {
   "cell_type": "code",
   "execution_count": 12,
   "id": "b7b48cbe-b8e6-4619-86e2-bcca99a1b647",
   "metadata": {},
   "outputs": [],
   "source": [
    "median = widgets.IntText(\n",
    "    value=1000,\n",
    "    description='Armutsgrenze:',\n",
    "    disabled=False\n",
    ")\n",
    "\n",
    "\n",
    "\n",
    "output = widgets.Text(\n",
    "    value='',\n",
    "    disabled=True\n",
    ")\n",
    "\n",
    "\n",
    "button = widgets.Button(\n",
    "    description='Auswertung',\n",
    "    disabled=False,\n",
    "    button_style='', # 'success', 'info', 'warning', 'danger' or ''\n",
    "    tooltip='Bitte klicken.',\n",
    "    #icon='check' # (FontAwesome names without the `fa-` prefix)\n",
    ")\n",
    "\n",
    "\n",
    "# define function\n",
    "def check(button_instance):\n",
    "  if median.value == 1222:\n",
    "    output.value = 'Richtig, das ist die Armutsgrenze.'\n",
    "    button.button_style = 'success'\n",
    "  elif median.value > 1222:\n",
    "    output.value = 'Die Armutsgrenze ist geringer.'\n",
    "    button.button_style = 'danger'\n",
    "  else:\n",
    "    output.value = 'Die Armutsgrenze ist höher.'\n",
    "    button.button_style = 'danger'\n",
    "\n",
    "# set function as on_click on button\n",
    "button.on_click(check)"
   ]
  },
  {
   "cell_type": "markdown",
   "id": "35f6e0b5-a58c-4f4d-9af2-8ab80630d89f",
   "metadata": {},
   "source": [
    "Wie hoch ist der Armutsgrenze (60% des mittleren Einkommens)?"
   ]
  },
  {
   "cell_type": "code",
   "execution_count": 13,
   "id": "22d7d1f1-15bc-4a4b-ae8c-661c222c30c1",
   "metadata": {},
   "outputs": [
    {
     "data": {
      "application/vnd.jupyter.widget-view+json": {
       "model_id": "a38e62480a3b4b809081f3d7e161e794",
       "version_major": 2,
       "version_minor": 0
      },
      "text/plain": [
       "Box(children=(IntText(value=1000, description='Armutsgrenze:'), Button(description='Auswertung', style=ButtonS…"
      ]
     },
     "metadata": {},
     "output_type": "display_data"
    }
   ],
   "source": [
    "# nebeneinander in Box anzeigen\n",
    "items = [median, button, output]\n",
    "box = Box(children=items)\n",
    "display(box) # <- this one command displays all children"
   ]
  },
  {
   "cell_type": "code",
   "execution_count": 14,
   "id": "c2a63196-15a0-4c79-8be5-a663492e4985",
   "metadata": {},
   "outputs": [],
   "source": [
    "median = widgets.BoundedFloatText(\n",
    "    value=0.5,\n",
    "    min=0,\n",
    "    max=1,\n",
    "    step=0.01,\n",
    "    description='$p=$',\n",
    "    disabled=False\n",
    ")\n",
    "\n",
    "\n",
    "\n",
    "output = widgets.Text(\n",
    "    value='',\n",
    "    disabled=True\n",
    ")\n",
    "\n",
    "\n",
    "button = widgets.Button(\n",
    "    description='Auswertung',\n",
    "    disabled=False,\n",
    "    button_style='', # 'success', 'info', 'warning', 'danger' or ''\n",
    "    tooltip='Bitte klicken.',\n",
    "    #icon='check' # (FontAwesome names without the `fa-` prefix)\n",
    ")\n",
    "\n",
    "## Bilder einfügen\n",
    "file = open(\"index.png\", \"rb\")\n",
    "image = file.read()\n",
    "bild = widgets.Image(\n",
    "    value=image,\n",
    "    format='png',\n",
    "    width=0,\n",
    "    height=128,\n",
    ")\n",
    "\n",
    "# define function\n",
    "def check(button_instance):\n",
    "  if median.value == 0.84:\n",
    "    output.value = 'Richtig, das ist der korrekte Wert.'\n",
    "    button.button_style = 'success'\n",
    "  elif median.value > 1222:\n",
    "    output.value = 'Der Wert ist geringer.'\n",
    "    button.button_style = 'danger'\n",
    "  else:\n",
    "    output.value = 'Der Wert ist höher.'\n",
    "    button.button_style = 'danger'\n",
    "\n",
    "# set function as on_click on button\n",
    "button.on_click(check)"
   ]
  },
  {
   "cell_type": "markdown",
   "id": "9a9a0fbb-281a-41e8-aa32-6c0195d8324d",
   "metadata": {},
   "source": [
    "Wie hoch ist der Anteil an reichen Menschen in der Gesamtbevölkerung?"
   ]
  },
  {
   "cell_type": "code",
   "execution_count": 15,
   "id": "671df1da-20a4-4634-b292-11ef5357799c",
   "metadata": {},
   "outputs": [
    {
     "data": {
      "application/vnd.jupyter.widget-view+json": {
       "model_id": "9898138d98af4c4b9e916cae302c74fd",
       "version_major": 2,
       "version_minor": 0
      },
      "text/plain": [
       "Box(children=(BoundedFloatText(value=0.5, description='$p=$', max=1.0, step=0.01), Button(description='Auswert…"
      ]
     },
     "metadata": {},
     "output_type": "display_data"
    }
   ],
   "source": [
    "# nebeneinander in Box anzeigen\n",
    "items = [median, button, output]\n",
    "box = Box(children=items)\n",
    "display(box) # <- this one command displays all children"
   ]
  },
  {
   "cell_type": "code",
   "execution_count": 16,
   "id": "8ec0d3ef-5df2-4a1a-8154-d51907655238",
   "metadata": {},
   "outputs": [
    {
     "data": {
      "text/html": [
       "<a href=\"https://www.destatis.de/DE/Presse/Pressemitteilungen/2022/08/PD22_327_634.html\">Mehr Infos zum Relativen Armutsrisiko in Deutschland</a>\n"
      ],
      "text/plain": [
       "<IPython.core.display.HTML object>"
      ]
     },
     "metadata": {},
     "output_type": "display_data"
    }
   ],
   "source": [
    "%%html\n",
    "<a href=\"https://www.destatis.de/DE/Presse/Pressemitteilungen/2022/08/PD22_327_634.html\">Mehr Infos zum Relativen Armutsrisiko in Deutschland</a>"
   ]
  },
  {
   "cell_type": "markdown",
   "id": "8d7e430a-db95-430c-8c75-52c49316acd1",
   "metadata": {},
   "source": [
    "## Aufgabe 3 \n",
    "\n",
    "Der Staat entschließt sich, in die Einkommensverteilung einzugreifen. Individuen mit geringenm einkommen $y_u$ erhalten einen Transfer $B$. Diesen Transfer müssen Individuen mit hohen Einkommen $y_o$ durch Abgaben $T$ finanzieren. Daher gilt $rT=aB$ mit $r$ Anzahl reicher Menschen und $a$ Anzahl armer Menschen.\n",
    "\n",
    "Jedes Individuum hat eine Vorstellung davon, wie hoch $B$ und $T$ sein sollten. \n",
    "\n"
   ]
  },
  {
   "cell_type": "markdown",
   "id": "442c4526-a6fb-4308-b4eb-e199e4c92748",
   "metadata": {
    "tags": []
   },
   "source": [
    "Der Nutzen des Individuums hängt von $B$ und $T$ ab. Jedes Individuum hält die Transfers und Abgaben für ideal, die seinen eigenen Nutzen maximieren. Nutzen Sie den slider um die für Bruno optimale Steuerlast zu finden."
   ]
  },
  {
   "cell_type": "code",
   "execution_count": 17,
   "id": "4247e0d8-2b64-471b-a3e5-0d22a0f38fd1",
   "metadata": {},
   "outputs": [
    {
     "data": {
      "application/vnd.jupyter.widget-view+json": {
       "model_id": "68e296711070467f9872b9f606db628a",
       "version_major": 2,
       "version_minor": 0
      },
      "text/plain": [
       "interactive(children=(IntSlider(value=500, description='T', max=1000), Output()), _dom_classes=('widget-intera…"
      ]
     },
     "metadata": {},
     "output_type": "display_data"
    },
    {
     "name": "stdout",
     "output_type": "stream",
     "text": [
      "Nutzen\n"
     ]
    }
   ],
   "source": [
    "def f(T):\n",
    "    return (0.84*(1000 - T)**0.5 + (1 - 0.84)*(100 + (0.84/0.16)*T)**0.5)\n",
    "\n",
    "\n",
    "\n",
    "interact(f, T=(0, 1000));\n",
    "print('Nutzen')\n"
   ]
  },
  {
   "cell_type": "markdown",
   "id": "6aff384b-5293-4b14-aba0-6b874481d16e",
   "metadata": {},
   "source": [
    "Berechnen Sie den optimalpunkt rechnerisch. Falls nötig, nutzen Sie untenstehende Lösungshinweise."
   ]
  },
  {
   "cell_type": "code",
   "execution_count": 18,
   "id": "06150f80-32a2-4631-873f-40f0a34eec5e",
   "metadata": {},
   "outputs": [
    {
     "data": {
      "application/vnd.jupyter.widget-view+json": {
       "model_id": "a54990722a6c4d9c9068f2bb3e137f06",
       "version_major": 2,
       "version_minor": 0
      },
      "text/plain": [
       "Tab(children=(Accordion(children=(Label(value='$$ U = p( y_u - T)^{0.5} + (1-p)( y_o + B)^{0.5} $$', descripti…"
      ]
     },
     "execution_count": 18,
     "metadata": {},
     "output_type": "execute_result"
    }
   ],
   "source": [
    "accordion2 = widgets.Accordion([\n",
    "    widgets.Label(\n",
    "        value=\"$$ U = p( y_u - T)^{0.5} + (1-p)( y_o + B)^{0.5} $$\",\n",
    "        placeholder='Some LaTeX',\n",
    "        description='Some LaTeX',\n",
    "        disabled=False\n",
    "    ),\n",
    "    widgets.Label(\n",
    "        value=\"$$ p= 0,84 $$ und $$ T = \\\\frac{0,16}{0,84} B$$\",\n",
    "        placeholder='Some LaTeX',\n",
    "        description='Some LaTeX',\n",
    "        disabled=False\n",
    "    ),\n",
    "    widgets.Label(\n",
    "        value=\"$$ U = 0,84  U( 1000 - \\\\frac{0,16}{0,84} B)^{0.5} + (0,16) U( 100 + B)^{0.5}  $$\",\n",
    "        placeholder='Some LaTeX',\n",
    "        description='Some LaTeX',\n",
    "        disabled=False\n",
    "    ),\n",
    "    widgets.Label(\n",
    "        value=\"$$ \\\\dfrac{ \\partial U}{\\partial B} = 0,84 \\\\times 0.5 \\\\times ( 1000 - \\\\frac{0,16}{0,84} B)^{-0.5}\\\\dfrac{\\partial y}{\\partial B} + 0,16 \\\\times 0.5 \\\\times ( 100 + B)^{-0.5} \\\\dfrac{\\partial y}{\\partial B} = 0$$\",\n",
    "        placeholder='Some LaTeX',\n",
    "        description='Some LaTeX',\n",
    "        disabled=False\n",
    "    ),\n",
    "    widgets.Label(\n",
    "        value=\"$$ \\\\dfrac{\\partial y}{\\partial B} = - \\\\frac{0,16}{0,84}  $$ und $$ \\\\dfrac{\\partial y}{\\partial B} = 1  $$\",\n",
    "        placeholder='Some LaTeX',\n",
    "        description='Some LaTeX',\n",
    "        disabled=False\n",
    "    ),\n",
    "    widgets.Label(\n",
    "        value=\"$$  \\\\dfrac{ \\partial U}{\\partial B} = 0,84 \\\\times 0.5 \\\\times ( 1000 - \\\\frac{0,16}{0,84} B)^{-0.5} \\\\times (- \\\\frac{0,16}{0,84}) + 0,16 \\\\times 0.5 \\\\times ( 100 + B)^{-0.5} = 0$$\",\n",
    "        placeholder='Some LaTeX',\n",
    "        description='Some LaTeX',\n",
    "        disabled=False\n",
    "    ),\n",
    "    widgets.Label(\n",
    "        value=\"$$ 0,16 \\\\times 0.5 \\\\times ( 100 + B)^{-0.5} = 0,16 \\\\times 0.5 \\\\times ( 1000 - \\\\frac{0,16}{0,84} B)^{-0.5}  $$\",\n",
    "        placeholder='Some LaTeX',\n",
    "        description='Some LaTeX',\n",
    "        disabled=False\n",
    "    ),\n",
    "    widgets.Label(\n",
    "        value=\"$$ ( 100 + B) = ( 1000 - \\\\frac{0,16}{0,84} B) $$\",\n",
    "        placeholder='Some LaTeX',\n",
    "        description='Some LaTeX',\n",
    "        disabled=False\n",
    "    ),\n",
    "    widgets.Label(\n",
    "        value=\"$$  (1+\\\\frac{0,16}{0,84})B = 900 \\\\rightarrow B = 900 \\\\times 0,84 = 756 \\\\rightarrow T = \\\\frac{0,16}{0,84}756 = \\\\mathbf{144}$$ \",\n",
    "        placeholder='Some LaTeX',\n",
    "        description='Some LaTeX',\n",
    "        disabled=False\n",
    ")])\n",
    "accordion2.set_title(0, 'Schritt 1: Nutzenfunktion aufstellen')\n",
    "accordion2.set_title(1, 'Schritt 2: Wahrscheinlichkeit p bestimmen')\n",
    "accordion2.set_title(2, 'Schritt 3: Werte in Nutzenfunktion einsetzen')\n",
    "accordion2.set_title(3, 'Schritt 4: Ableitung nach B bilden')\n",
    "accordion2.set_title(4, 'Schritt 5: Innere Ableitungen bilden')\n",
    "accordion2.set_title(5, 'Schritt 6: Innere Ableitungen einsetzen')\n",
    "accordion2.set_title(6, 'Schritt 7: Nach B auflösen')\n",
    "accordion2.set_title(7, 'Schritt 8: Vereinfachen')\n",
    "accordion2.set_title(8, 'Schritt 9: B und T bestimmen')\n",
    "accordion2\n",
    "\n",
    "\n",
    "\n",
    "accordion = widgets.Accordion([\n",
    "    widgets.Label(\n",
    "        value=\"$$ f(x)=x^n \\\\rightarrow f'(x) = n \\\\times x^{n-1} $$\",\n",
    "        placeholder='Some LaTeX',\n",
    "        description='Some LaTeX',\n",
    "        disabled=False\n",
    "    ),\n",
    "    widgets.Label(\n",
    "        value=\"$$f(x) = g(h(x)) \\\\rightarrow f'(x) = g'(h(x)) \\\\times h'(x)$$\",\n",
    "        placeholder='Some LaTeX',\n",
    "        description='Some LaTeX',\n",
    "        disabled=False  \n",
    ")])\n",
    "accordion.set_title(0, 'Potenzregel')\n",
    "accordion.set_title(1, 'Kettenregel')\n",
    "accordion\n",
    "\n",
    "\n",
    "tab_nest = widgets.Tab()\n",
    "tab_nest.children = [accordion2, accordion]\n",
    "tab_nest.set_title(0, 'Lösungsschritte')\n",
    "tab_nest.set_title(1, 'Ableitungsregeln')\n",
    "tab_nest"
   ]
  },
  {
   "cell_type": "markdown",
   "id": "01704d1f-d11f-4f92-a1fb-d27331c1ac14",
   "metadata": {},
   "source": [
    "## Aufgabe 4\n",
    "\n",
    "Die Arbeitslosenversicherung ist eine von fünf verpflichtenden Sozialversicherungen in Deutschland. Das bedeutet, alle Arbeitnehmer müssen in die Versicherung einzahlen. \n"
   ]
  },
  {
   "cell_type": "code",
   "execution_count": 19,
   "id": "15ab8cb6-5176-4d9b-84c5-88f94624cadf",
   "metadata": {},
   "outputs": [
    {
     "data": {
      "text/html": [
       "<a href=\"https://www.bmas.de/DE/Soziales/Sozialversicherung/sozialversicherung-art.html\">Mehr Infos zur Sozialversicherung in Deutschland</a>\n"
      ],
      "text/plain": [
       "<IPython.core.display.HTML object>"
      ]
     },
     "metadata": {},
     "output_type": "display_data"
    }
   ],
   "source": [
    "%%html\n",
    "<a href=\"https://www.bmas.de/DE/Soziales/Sozialversicherung/sozialversicherung-art.html\">Mehr Infos zur Sozialversicherung in Deutschland</a>"
   ]
  },
  {
   "cell_type": "markdown",
   "id": "d4f43cb8-5754-4eb1-995e-aa22610eced2",
   "metadata": {},
   "source": [
    "Warum übernimmt der Staat diese Aufgabe? Beschäftigen wir uns hierzu mit folgendem hypothetischem Fall:"
   ]
  },
  {
   "cell_type": "markdown",
   "id": "86fe1ead-b5ae-4b58-b487-a840fa74072e",
   "metadata": {},
   "source": [
    "Betrachten wir eine Gesellschaft in der der Anteil an Arbeitslosen bei 5% liegt. Wird ein Individdum arbeitslos, muss es einen Einkommensverlust in Kauf nehmen, da sein Einkommen von $\\overline{y} = 60.000$ auf $\\underline{y} = 40.000$ Euro sinkt.\n",
    "\n",
    "\n",
    "Sie sind der Anbeiter einer privaten Versicherung und bieten Ihren Kunden an, im Falle der Arbeitslosigkeit diesen Einkommensverlust durch eine Transferzahlung $B$ auszugleichen. \n",
    "Sie möchten Ihren Kunden die Versichrung zu einem Preis (Versicherungsprämie $P$) anbieten, der genau ihre erwarteten Auszahlungen deckt.\n",
    "\n",
    "Wie hoch würden sie die Versicherungsprämie wählen?"
   ]
  },
  {
   "cell_type": "code",
   "execution_count": 20,
   "id": "37d12e27-2d51-47ad-9d9e-93a2c812a239",
   "metadata": {},
   "outputs": [],
   "source": [
    "opinion = widgets.RadioButtons(\n",
    "    options=['500€', '1.000€', '2.000€'],\n",
    "#     value='',\n",
    "    description='Versicherungsprämie',\n",
    "    disabled=False\n",
    ")\n",
    "\n",
    "button = widgets.Button(\n",
    "    description='Auswertung',\n",
    "    disabled=False,\n",
    "    button_style='', # 'success', 'info', 'warning', 'danger' or ''\n",
    "    tooltip='Bitte klicken.',\n",
    "    #icon='check' # (FontAwesome names without the `fa-` prefix)\n",
    ")\n",
    "\n",
    "output = widgets.Text(\n",
    "    value='',\n",
    "    disabled=True\n",
    ")\n",
    "\n",
    "# define function\n",
    "def check(button_instance):\n",
    "  if opinion.value == '1.000€':\n",
    "    output.value = ''\n",
    "    button.button_style = 'success'\n",
    "    button.description = 'Richtig'\n",
    "  else:\n",
    "    output.value = 'Die Formel lautet: Prämie = 0,05 x 20.000€'\n",
    "    button.button_style = 'danger'\n",
    "    button.description = 'Leider Falsch'\n",
    "\n",
    "# set function as on_click on button\n",
    "button.on_click(check)"
   ]
  },
  {
   "cell_type": "code",
   "execution_count": 21,
   "id": "114cb769-5bc9-456f-8635-36f986213d6b",
   "metadata": {},
   "outputs": [
    {
     "data": {
      "application/vnd.jupyter.widget-view+json": {
       "model_id": "0f1472aa18854813889246ebdf12f4fa",
       "version_major": 2,
       "version_minor": 0
      },
      "text/plain": [
       "RadioButtons(description='Versicherungsprämie', options=('500€', '1.000€', '2.000€'), value='500€')"
      ]
     },
     "metadata": {},
     "output_type": "display_data"
    },
    {
     "data": {
      "application/vnd.jupyter.widget-view+json": {
       "model_id": "d81c3a93b7f942738ae20ccd657a4c31",
       "version_major": 2,
       "version_minor": 0
      },
      "text/plain": [
       "Button(description='Auswertung', style=ButtonStyle(), tooltip='Bitte klicken.')"
      ]
     },
     "metadata": {},
     "output_type": "display_data"
    },
    {
     "data": {
      "application/vnd.jupyter.widget-view+json": {
       "model_id": "04a989183f8049baae81ec24cdf27e41",
       "version_major": 2,
       "version_minor": 0
      },
      "text/plain": [
       "Text(value='', disabled=True)"
      ]
     },
     "metadata": {},
     "output_type": "display_data"
    }
   ],
   "source": [
    "display(opinion)\n",
    "display(button)\n",
    "display(output)"
   ]
  },
  {
   "cell_type": "markdown",
   "id": "fac56530-f72c-493d-bbb7-6cd637d2c2a2",
   "metadata": {},
   "source": [
    "## Welche Individuen würden eine Versicherung abschließen?\n",
    "\n",
    "Gehen Sie nun davon aus, dass die Individuen Ihr persönliches Risiko $r_i$ kennen, arbeitslos zu werden.\n",
    "\n",
    "Berechnen Sie zunächst den erwarteten Nutzen eines representativen Individuums bei Abschluss der Versicherung. Gehen Sie hierbei davon aus, dass die Individuen risikoavers sind und die Nutzenfunktion $u(y)=y^{0,5}$ besitzen."
   ]
  },
  {
   "cell_type": "code",
   "execution_count": 22,
   "id": "f7612608-0aa1-4cad-8cf6-9e87489956e5",
   "metadata": {},
   "outputs": [
    {
     "data": {
      "application/vnd.jupyter.widget-view+json": {
       "model_id": "5904ada7584a43bd8f80e2e389c0ee44",
       "version_major": 2,
       "version_minor": 0
      },
      "text/plain": [
       "Accordion(children=(Label(value='$E[u] = (1-r) \\\\cdot u(\\\\overline{y} - P) + r \\\\cdot u(\\\\underline{y} - P + B…"
      ]
     },
     "execution_count": 22,
     "metadata": {},
     "output_type": "execute_result"
    }
   ],
   "source": [
    "accordion = widgets.Accordion([\n",
    "    widgets.Label(\n",
    "        value=\"$E[u] = (1-r) \\\\cdot u(\\\\overline{y} - P) + r \\\\cdot u(\\\\underline{y} - P + B) $\",\n",
    "        placeholder='Some LaTeX',\n",
    "        description='Some LaTeX',\n",
    "        disabled=False\n",
    "    ),\n",
    "    widgets.Label(\n",
    "        value=\"$E[u] = (1-r)(60.000 - 1.000)^{0,5} + r(40.000 - 1.000 + 20.000)^{0,5} = (50.000)^{0,5} = 242,90$\",\n",
    "        placeholder='Some LaTeX',\n",
    "        description='Some LaTeX',\n",
    "        disabled=False  \n",
    ")])\n",
    "accordion.set_title(0, 'Formel')\n",
    "accordion.set_title(1, 'Lösung')\n",
    "accordion"
   ]
  },
  {
   "cell_type": "markdown",
   "id": "c2fcec21-6c3e-4587-bd4c-506d4a81fa02",
   "metadata": {},
   "source": [
    "Das Risiko, arbeitslos zu werden, unterscheidet sich u.a. nach Qualifikationsniveau. Untentehendes Grafik können Sie die verschiedenen Arbeitslosenquoten für verschieden Qualifikationsgruppen in Deutschland entnehmen."
   ]
  },
  {
   "cell_type": "code",
   "execution_count": 23,
   "id": "cd11e818-6340-42e9-85c7-012ed6a4aeec",
   "metadata": {},
   "outputs": [
    {
     "data": {
      "application/vnd.jupyter.widget-view+json": {
       "model_id": "7dfa51a4ff094cd8868bcfb434ff647f",
       "version_major": 2,
       "version_minor": 0
      },
      "text/plain": [
       "Image(value=b'\\x89PNG\\r\\n\\x1a\\n\\x00\\x00\\x00\\rIHDR\\x00\\x00\\x04*\\x00\\x00\\x02\\x96\\x08\\x06\\x00\\x00\\x00\\x8f\\x8dx\\xf…"
      ]
     },
     "execution_count": 23,
     "metadata": {},
     "output_type": "execute_result"
    }
   ],
   "source": [
    "## Bilder einfügen\n",
    "file = builtins.open(\"Bilder/Arbeitslosenquote.png\", \"rb\")\n",
    "image = file.read()\n",
    "bild = widgets.Image(\n",
    "    value=image,\n",
    "    format='png',\n",
    "   # width=128,\n",
    "   # height=128,\n",
    "    )\n",
    "bild"
   ]
  },
  {
   "cell_type": "code",
   "execution_count": 24,
   "id": "f69c54d9-ba24-47f9-8a47-3a801b9b26c2",
   "metadata": {},
   "outputs": [
    {
     "data": {
      "text/html": [
       "<a href=\"https://doku.iab.de/arbeitsmarktdaten/Qualo_2020.pdf\">Quelle</a>\n"
      ],
      "text/plain": [
       "<IPython.core.display.HTML object>"
      ]
     },
     "metadata": {},
     "output_type": "display_data"
    }
   ],
   "source": [
    "%%html\n",
    "<a href=\"https://doku.iab.de/arbeitsmarktdaten/Qualo_2020.pdf\">Quelle</a>"
   ]
  },
  {
   "cell_type": "markdown",
   "id": "91d8a319-d9be-4b2e-92e5-1b5e4da18c0f",
   "metadata": {},
   "source": [
    "Berechenen Sie für jedes Qualifikationsniveau den erwarteten Nutzen einer Versicherung.\n",
    "Nutzen Sie den Slider um Ihre Ergebnisse zu verifizieren."
   ]
  },
  {
   "cell_type": "code",
   "execution_count": 25,
   "id": "1bb26eab-6fd0-4d2b-8293-c516b7b0e16d",
   "metadata": {},
   "outputs": [],
   "source": [
    "def f(r):\n",
    "    return ((1-r)*60000**0.5 + r*40000**0.5)"
   ]
  },
  {
   "cell_type": "code",
   "execution_count": 26,
   "id": "e83737de-ca05-47f1-a797-67fe2cac8d9f",
   "metadata": {},
   "outputs": [
    {
     "data": {
      "application/vnd.jupyter.widget-view+json": {
       "model_id": "9e6b04c07da543c68efa403e264fc7c1",
       "version_major": 2,
       "version_minor": 0
      },
      "text/plain": [
       "interactive(children=(FloatSlider(value=0.0, description='r', max=1.0, step=0.01), Output()), _dom_classes=('w…"
      ]
     },
     "metadata": {},
     "output_type": "display_data"
    },
    {
     "name": "stdout",
     "output_type": "stream",
     "text": [
      "Erwarteter Nutzen ohne Verischerung\n"
     ]
    }
   ],
   "source": [
    "interact(f, r=(0,1,0.01));\n",
    "print('Erwarteter Nutzen ohne Verischerung')"
   ]
  },
  {
   "cell_type": "markdown",
   "id": "13f43fa6-1bbb-485a-8db7-94844fed7aab",
   "metadata": {},
   "source": [
    "Wann würden Individuen Ihre Versicherung abschließen?"
   ]
  },
  {
   "cell_type": "markdown",
   "id": "c9cf39b3-7a39-4e9d-8d77-da2a2f0550ea",
   "metadata": {},
   "source": [
    "Wenn der erwartete Nutzen ohne Versicherung"
   ]
  },
  {
   "cell_type": "code",
   "execution_count": 27,
   "id": "d136897d-d443-4a20-95a8-2021ff2eeeb9",
   "metadata": {},
   "outputs": [],
   "source": [
    "opinion = widgets.RadioButtons(\n",
    "    options=['größer', 'kleiner'],\n",
    "    #value='',\n",
    "    description='',\n",
    "    disabled=False\n",
    ")\n",
    "\n",
    "button = widgets.Button(\n",
    "    description='Auswertung',\n",
    "    disabled=False,\n",
    "    button_style='', # 'success', 'info', 'warning', 'danger' or ''\n",
    "    tooltip='Bitte klicken.',\n",
    "    #icon='check' # (FontAwesome names without the `fa-` prefix)\n",
    ")\n",
    "\n",
    "\n",
    "\n",
    "# define function\n",
    "def check(button_instance):\n",
    "  if opinion.value == 'kleiner':\n",
    "    button.button_style = 'success'\n",
    "    button.description = 'Richtig'\n",
    "  else:\n",
    "    button.button_style = 'danger'\n",
    "    button.description = 'Leider Falsch'\n",
    "\n",
    "# set function as on_click on button\n",
    "button.on_click(check)"
   ]
  },
  {
   "cell_type": "code",
   "execution_count": 28,
   "id": "0a24557d-1559-43ad-ae02-31b50cd260c7",
   "metadata": {},
   "outputs": [
    {
     "data": {
      "application/vnd.jupyter.widget-view+json": {
       "model_id": "a06512d3a49340e687bfe290751be149",
       "version_major": 2,
       "version_minor": 0
      },
      "text/plain": [
       "Box(children=(RadioButtons(options=('größer', 'kleiner'), value='größer'), Button(description='Auswertung', st…"
      ]
     },
     "metadata": {},
     "output_type": "display_data"
    }
   ],
   "source": [
    "items = [opinion, button]\n",
    "box = Box(children=items)\n",
    "display(box) # <- this one command displays all children"
   ]
  },
  {
   "cell_type": "markdown",
   "id": "029b581a-896b-4577-a902-3e425e6099de",
   "metadata": {},
   "source": [
    "als der zu erwartende Nutzen mit Versicherung ist."
   ]
  },
  {
   "cell_type": "markdown",
   "id": "df73c518-15cb-4680-bc37-184bf39ce593",
   "metadata": {},
   "source": [
    "Welche Individuen würden eine Verischerung zum Preis von 1.000 € abschließen?"
   ]
  },
  {
   "cell_type": "code",
   "execution_count": 29,
   "id": "5f44fc6b-6ea0-47e8-8b88-3c2511d92f05",
   "metadata": {},
   "outputs": [],
   "source": [
    "opinion = widgets.RadioButtons(\n",
    "    options=['Personen ohne Berufsabschluss', 'Personen mit Lehre/Fachhochschule','Personen mit Hochschule/Fachhochschule'],\n",
    "    #value='',\n",
    "    description='',\n",
    "    disabled=False\n",
    ")\n",
    "\n",
    "button = widgets.Button(\n",
    "    description='Auswertung',\n",
    "    disabled=False,\n",
    "    button_style='', # 'success', 'info', 'warning', 'danger' or ''\n",
    "    tooltip='Bitte klicken.',\n",
    "    #icon='check' # (FontAwesome names without the `fa-` prefix)\n",
    ")\n",
    "\n",
    "\n",
    "# define function\n",
    "def check(button_instance):\n",
    "  if opinion.value == 'Personen ohne Berufsabschluss':\n",
    "    button.button_style = 'success'\n",
    "    button.description = 'Richtig'\n",
    "  else:\n",
    "    button.button_style = 'danger'\n",
    "    button.description = 'Leider Falsch'\n",
    "\n",
    "# set function as on_click on button\n",
    "button.on_click(check)"
   ]
  },
  {
   "cell_type": "code",
   "execution_count": 30,
   "id": "d4a0a19f-88ca-4eb9-b571-f9e248a4cb6c",
   "metadata": {},
   "outputs": [
    {
     "data": {
      "application/vnd.jupyter.widget-view+json": {
       "model_id": "38d42623040f42e39b26a83b1ca343ad",
       "version_major": 2,
       "version_minor": 0
      },
      "text/plain": [
       "Box(children=(RadioButtons(options=('Personen ohne Berufsabschluss', 'Personen mit Lehre/Fachhochschule', 'Per…"
      ]
     },
     "metadata": {},
     "output_type": "display_data"
    }
   ],
   "source": [
    "items = [opinion, button]\n",
    "box = Box(children=items)\n",
    "display(box) # <- this one command displays all children"
   ]
  },
  {
   "cell_type": "markdown",
   "id": "8b2a8723-bf37-45ea-8292-d77a94229fd0",
   "metadata": {},
   "source": [
    "Gehen Sie davon aus, dass 100 Personen obigen ausgewählter Qualifizierungsgruppe Ihre Versicherung abschließen. Was würde das für Ihre Gewinne bedeuten?"
   ]
  },
  {
   "cell_type": "code",
   "execution_count": 31,
   "id": "b29bb46b-9a08-49fc-bb28-04a301f75aa0",
   "metadata": {},
   "outputs": [
    {
     "data": {
      "application/vnd.jupyter.widget-view+json": {
       "model_id": "ba5b76ea379744a1aae31046ea43b466",
       "version_major": 2,
       "version_minor": 0
      },
      "text/plain": [
       "Accordion(children=(Label(value='$E = 100 \\\\cdot 1.000 = 100.000 $', description='Some LaTeX', placeholder='So…"
      ]
     },
     "execution_count": 31,
     "metadata": {},
     "output_type": "execute_result"
    }
   ],
   "source": [
    "accordion = widgets.Accordion([\n",
    "    widgets.Label(\n",
    "        value=\"$E = 100 \\cdot 1.000 = 100.000 $\",\n",
    "        placeholder='Some LaTeX',\n",
    "        description='Some LaTeX',\n",
    "        disabled=False\n",
    "    ),\n",
    "    widgets.Label(\n",
    "        value=\"$C=0,17 \\cdot 100 \\cdot 20.000 = 340.000$\",\n",
    "        placeholder='Some LaTeX',\n",
    "        description='Some LaTeX',\n",
    "        disabled=False  \n",
    ")])\n",
    "accordion.set_title(0, 'Erwartete Einnahmen pro 100 Versicherten')\n",
    "accordion.set_title(1, 'Erwartete Auszahlungen pro 100 Versicherten')\n",
    "accordion"
   ]
  },
  {
   "cell_type": "markdown",
   "id": "0adbf852-1149-4e39-8931-d8c04c7ab8cb",
   "metadata": {},
   "source": [
    "Würden Sie sich entscheiden, Ihre Versicherung am privaten Markt anzubieten?"
   ]
  },
  {
   "cell_type": "code",
   "execution_count": 32,
   "id": "14d08312-ebc9-4534-a9db-c3600f983b61",
   "metadata": {},
   "outputs": [],
   "source": [
    "opinion = widgets.RadioButtons(\n",
    "    options=['Ja','Nein'],\n",
    "    #value='',\n",
    "    description='',\n",
    "    disabled=False\n",
    ")\n",
    "\n",
    "button = widgets.Button(\n",
    "    description='Auswertung',\n",
    "    disabled=False,\n",
    "    button_style='', # 'success', 'info', 'warning', 'danger' or ''\n",
    "    tooltip='Bitte klicken.',\n",
    "    #icon='check' # (FontAwesome names without the `fa-` prefix)\n",
    ")\n",
    "\n",
    "\n",
    "# define function\n",
    "def check(button_instance):\n",
    "  if opinion.value == 'Nein':\n",
    "    button.button_style = 'success'\n",
    "    button.description = 'Gute Entscheidung!'\n",
    "  else:\n",
    "    button.button_style = 'danger'\n",
    "    button.description = 'Mutig, aber unklug.'\n",
    "\n",
    "# set function as on_click on button\n",
    "button.on_click(check)"
   ]
  },
  {
   "cell_type": "code",
   "execution_count": 36,
   "id": "80de8749-83ec-4e78-a540-647dfbc6b2a4",
   "metadata": {},
   "outputs": [
    {
     "data": {
      "application/vnd.jupyter.widget-view+json": {
       "model_id": "db22a5527fce424087151f1a796c9a4d",
       "version_major": 2,
       "version_minor": 0
      },
      "text/plain": [
       "Box(children=(RadioButtons(index=1, options=('Ja', 'Nein'), value='Nein'), Button(button_style='success', desc…"
      ]
     },
     "metadata": {},
     "output_type": "display_data"
    }
   ],
   "source": [
    "items = [opinion, button]\n",
    "box = Box(children=items)\n",
    "display(box) # <- this one command displays all children"
   ]
  },
  {
   "cell_type": "markdown",
   "id": "a236f528-1a65-4b5f-bb90-a5e296a4603f",
   "metadata": {},
   "source": [
    "Unter welchen Umständen könnten Sie Ihre Versicherung gewinnbringend betreieben?\n",
    "\n",
    "Diese Frage werden wir in der Präsenzverantsaltung näher erläutern."
   ]
  },
  {
   "cell_type": "code",
   "execution_count": null,
   "id": "3afad146-da63-4316-a38e-d8ddf2258171",
   "metadata": {},
   "outputs": [],
   "source": []
  },
  {
   "cell_type": "code",
   "execution_count": null,
   "id": "a48d30e8-ffeb-4d99-a26c-d4900f506025",
   "metadata": {},
   "outputs": [],
   "source": []
  }
 ],
 "metadata": {
  "kernelspec": {
   "display_name": "Python 3 (ipykernel)",
   "language": "python",
   "name": "python3"
  },
  "language_info": {
   "codemirror_mode": {
    "name": "ipython",
    "version": 3
   },
   "file_extension": ".py",
   "mimetype": "text/x-python",
   "name": "python",
   "nbconvert_exporter": "python",
   "pygments_lexer": "ipython3",
   "version": "3.7.3"
  }
 },
 "nbformat": 4,
 "nbformat_minor": 5
}
