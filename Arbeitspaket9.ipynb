{
 "cells": [
  {
   "cell_type": "markdown",
   "id": "4986f2ef-b95c-4f10-9582-6c2b163b5dad",
   "metadata": {},
   "source": [
    "# Arbeitspaket 9"
   ]
  },
  {
   "cell_type": "markdown",
   "id": "d8ed7e5e-b1bf-4bad-8d15-c78f77dd7f25",
   "metadata": {},
   "source": [
    "## Aufgabe 1"
   ]
  },
  {
   "cell_type": "code",
   "execution_count": 1,
   "id": "422cf182-4a01-4c38-93a2-e86df5276b34",
   "metadata": {},
   "outputs": [],
   "source": [
    "from __future__ import print_function\n",
    "from ipywidgets import interact, interactive, fixed, interact_manual\n",
    "import ipywidgets as widgets"
   ]
  },
  {
   "cell_type": "markdown",
   "id": "894c7535-725a-4d50-9547-72a176773aaa",
   "metadata": {},
   "source": [
    "Individuen ziehen eine bestimmten Nutzen aus einer bestimmten Menge an Einkommen. Wie hoch dieser Nutzen ist, lässt sich anhand der Nutzenfunktion $ U(y)$ bestimmen. \n",
    "Diese Nutzenfunktion ermöglicht es den Individuen zu bestimment, welches Einkommen welchen Nutzen erzielt.\n",
    "\n",
    "Nehmen Sie an, die Nutzenfunktion hat die Form\n",
    "\n",
    "$$ U(y) = ay^{x} $$\n",
    "\n",
    "Nutzen Sie die den Slider um zu erkunden, wie sich die Form der Nutzenfunktion verändert, wenn sich die Parameter ändern."
   ]
  },
  {
   "cell_type": "code",
   "execution_count": 140,
   "id": "462cf925-34ef-4a7d-9349-a1c107f47b08",
   "metadata": {},
   "outputs": [
    {
     "data": {
      "application/vnd.jupyter.widget-view+json": {
       "model_id": "63e844d9a90d4f508fe7e9427d71ea70",
       "version_major": 2,
       "version_minor": 0
      },
      "text/plain": [
       "interactive(children=(IntSlider(value=5, description='a', max=10), FloatSlider(value=0.5, description='b', max…"
      ]
     },
     "execution_count": 140,
     "metadata": {},
     "output_type": "execute_result"
    }
   ],
   "source": [
    "%matplotlib inline\n",
    "from ipywidgets import interactive\n",
    "import matplotlib.pyplot as plt\n",
    "import numpy as np\n",
    "\n",
    "def f(a,b):\n",
    "    plt.figure(2)\n",
    "    x = np.linspace(0, 1000, num=1000)\n",
    "    plt.plot(x, a*x**(b))\n",
    "    plt.ylim(0, 100)\n",
    "    plt.show()\n",
    "    \n",
    "interactive_plot = interactive(f, a=(0, 10, 1), b=(0.1, 1, 0.1))\n",
    "output = interactive_plot.children[-1]\n",
    "interactive_plot"
   ]
  },
  {
   "cell_type": "code",
   "execution_count": null,
   "id": "949f9250-a33a-4000-a630-2f866abc02cf",
   "metadata": {},
   "outputs": [],
   "source": []
  },
  {
   "cell_type": "markdown",
   "id": "67d3d46b-f83b-4c71-96d7-39ea31043089",
   "metadata": {},
   "source": [
    "Welchen Nutzen hat ein Euro zusätzliches Einkommen?"
   ]
  },
  {
   "cell_type": "markdown",
   "id": "5fe376a6-7555-4f01-ab78-1f181cd25fd5",
   "metadata": {},
   "source": [
    "Oftmals ist dem Individuum nicht bekannt, welches Einkommen es am Markt erzeilen wird. Betrachten wir den Fall von Bauer Bruno. Bauer Bruno hat die Nutzenfunktion\n",
    "\n",
    "$$ U(y) = y^{0.5} $$\n",
    "\n",
    "Bauer Bruno weiß, dass sein Einkommen bei schlechtem Wetter bei $ \\underline{y} = 100 $ liegen wird wärhrend es bei gutem Wetter bei $ \\overline{y} = 1000 $ liegen wird.\n",
    "\n",
    "Berechnen Sie den Nutzen von Bruno bei gutem und bei schlechtem Wetter. Nutzen Sie den Slider um Ihr Ergebnis zu verifizieren."
   ]
  },
  {
   "cell_type": "code",
   "execution_count": 167,
   "id": "af805c13-1b95-4eca-9069-a6aed6bdedff",
   "metadata": {},
   "outputs": [],
   "source": [
    "def f(y):\n",
    "    return y**0.5"
   ]
  },
  {
   "cell_type": "code",
   "execution_count": 168,
   "id": "386908c1-1788-4db6-abb9-7db29b06b4a4",
   "metadata": {
    "tags": []
   },
   "outputs": [
    {
     "data": {
      "application/vnd.jupyter.widget-view+json": {
       "model_id": "df21817e67b645aba96f9be52bd5c8fe",
       "version_major": 2,
       "version_minor": 0
      },
      "text/plain": [
       "interactive(children=(IntSlider(value=550, description='y', max=1000, min=100), Output()), _dom_classes=('widg…"
      ]
     },
     "metadata": {},
     "output_type": "display_data"
    },
    {
     "name": "stdout",
     "output_type": "stream",
     "text": [
      "Nutzen\n"
     ]
    }
   ],
   "source": [
    "interact(f, y=(100,1000,1));\n",
    "print('Nutzen')"
   ]
  },
  {
   "cell_type": "markdown",
   "id": "4782ba08-b898-4ca6-b1b1-590fb15d5947",
   "metadata": {},
   "source": [
    "Bruno schaut den Wetterbericht und kennt somit die Wahrscheinlichkeit $p$ mit der gutes Wetter auftreten wird. Mithilfe dieser Wahrscheinlichkeit kann er seinen Erwartungsnutzen berechnen.\n",
    "\n",
    "Berechenen Sie den Erwartungsnutzen für die unten beschriebenen Wetterverhältnisse."
   ]
  },
  {
   "cell_type": "code",
   "execution_count": 164,
   "id": "b4e68042-af24-45cb-9287-bd92096115b9",
   "metadata": {},
   "outputs": [
    {
     "data": {
      "application/vnd.jupyter.widget-view+json": {
       "model_id": "5bdf96554e544a8390a49727fd00b8e2",
       "version_major": 2,
       "version_minor": 0
      },
      "text/plain": [
       "Tab(children=(Label(value='Im Westen und auf der Nordsee steife Windböen, auf exponierten Bergen stürmisch. Da…"
      ]
     },
     "execution_count": 164,
     "metadata": {},
     "output_type": "execute_result"
    }
   ],
   "source": [
    "bild = widgets.Label(\n",
    "        value=\"Im Westen und auf der Nordsee steife Windböen, auf exponierten Bergen stürmisch. Das Regenrisiko beträgt 70%\",\n",
    "        placeholder='Some LaTeX',\n",
    "        description='Some LaTeX',\n",
    "        disabled=False\n",
    "    )\n",
    "bild\n",
    "\n",
    "lösung = widgets.Label(\n",
    "        value=\"$$ E[u(y)] = 0.5 (1000)^{0.5} + (1-0.5) (100)^{0.5} $$\",\n",
    "        placeholder='Some LaTeX',\n",
    "        description='Some LaTeX',\n",
    "        disabled=False\n",
    "    )\n",
    "lösung\n",
    "\n",
    "lösung2 = widgets.Label(\n",
    "        value=\"$$ u(E[y]) = (0.5 \\\\times 1000 + (1-0.5) \\\\times 100)^{0.5}$$\",\n",
    "        placeholder='Some LaTeX',\n",
    "        description='Some LaTeX',\n",
    "        disabled=False\n",
    "    )\n",
    "lösung2\n",
    "\n",
    "\n",
    "\n",
    "tab_nest = widgets.Tab()\n",
    "tab_nest.children = [bild,lösung,lösung2]\n",
    "tab_nest.set_title(0, 'Wetterbericht')\n",
    "tab_nest.set_title(1, 'Erwartungsnutzen')\n",
    "tab_nest.set_title(2, 'Durchschnittsnutzen')\n",
    "tab_nest\n"
   ]
  },
  {
   "cell_type": "code",
   "execution_count": 169,
   "id": "a5265ac3-3bef-4d01-8e35-11feb21ce78b",
   "metadata": {},
   "outputs": [
    {
     "data": {
      "application/vnd.jupyter.widget-view+json": {
       "model_id": "d70e4a2d1fa34c8c9695d4a11067771f",
       "version_major": 2,
       "version_minor": 0
      },
      "text/plain": [
       "Tab(children=(Label(value='Dank Hoch Sabine erwarten uns sonnige Tage. Das Regenrisiko liegt bei lediglich 5%.…"
      ]
     },
     "execution_count": 169,
     "metadata": {},
     "output_type": "execute_result"
    }
   ],
   "source": [
    "bild = widgets.Label(\n",
    "        value=\"Dank Hoch Sabine erwarten uns sonnige Tage. Das Regenrisiko liegt bei lediglich 5%.\",\n",
    "        placeholder='Some LaTeX',\n",
    "        description='Some LaTeX',\n",
    "        disabled=False\n",
    "    )\n",
    "bild\n",
    "\n",
    "lösung = widgets.Label(\n",
    "        value=\"$$ E[u(y)] = 0.5 (1000)^{0.5} + (1-0.5) (100)^{0.5} $$\",\n",
    "        placeholder='Some LaTeX',\n",
    "        description='Some LaTeX',\n",
    "        disabled=False\n",
    "    )\n",
    "lösung\n",
    "\n",
    "lösung2 = widgets.Label(\n",
    "        value=\"$$ u(E[y]) = (0.5 \\\\times 1000 + (1-0.5) \\\\times 100)^{0.5}$$\",\n",
    "        placeholder='Some LaTeX',\n",
    "        description='Some LaTeX',\n",
    "        disabled=False\n",
    "    )\n",
    "lösung2\n",
    "\n",
    "\n",
    "\n",
    "tab_nest = widgets.Tab()\n",
    "tab_nest.children = [bild,lösung,lösung2]\n",
    "tab_nest.set_title(0, 'Wetterbericht')\n",
    "tab_nest.set_title(1, 'Erwartungsnutzen')\n",
    "tab_nest.set_title(2, 'Durchschnittsnutzen')\n",
    "tab_nest"
   ]
  },
  {
   "cell_type": "markdown",
   "id": "51669ab9-70eb-4177-b22f-23934293f403",
   "metadata": {},
   "source": [
    "Vergleichen Sie für beide Fälle Brunos Durchschnitts- und den Erwartungsnutzen.\n",
    "Welche Aussage können Sie über Brunos Risikopräferenzen treffen?"
   ]
  },
  {
   "cell_type": "code",
   "execution_count": 171,
   "id": "b1671efa-2f86-4e26-82e1-5f3a16aa92fa",
   "metadata": {},
   "outputs": [
    {
     "data": {
      "application/vnd.jupyter.widget-view+json": {
       "model_id": "2ddad0c3ba2b4c898cacc87f68ec7ad6",
       "version_major": 2,
       "version_minor": 0
      },
      "text/plain": [
       "Dropdown(description='Präferenz:', index=1, options=(('Risikoavers', 1), ('Risikoneutral', 2), ('Risikoliebend…"
      ]
     },
     "execution_count": 171,
     "metadata": {},
     "output_type": "execute_result"
    }
   ],
   "source": [
    "widgets.Dropdown(\n",
    "    options=[('Risikoavers', 1), ('Risikoneutral', 2), ('Risikoliebend', 3)],\n",
    "    value=2,\n",
    "    description='Präferenz:',\n",
    ")\n"
   ]
  },
  {
   "cell_type": "code",
   "execution_count": null,
   "id": "b8cd9d76-c3b4-4011-bee4-8984a5d58628",
   "metadata": {},
   "outputs": [],
   "source": []
  },
  {
   "cell_type": "code",
   "execution_count": 22,
   "id": "909076e1-20bf-4172-9103-81b834457f0d",
   "metadata": {},
   "outputs": [
    {
     "data": {
      "application/vnd.jupyter.widget-view+json": {
       "model_id": "8a8c374a877d47a39a59be4cfecb80c6",
       "version_major": 2,
       "version_minor": 0
      },
      "text/plain": [
       "interactive(children=(FloatSlider(value=0.0, description='p', max=1.0), Output()), _dom_classes=('widget-inter…"
      ]
     },
     "metadata": {},
     "output_type": "display_data"
    },
    {
     "name": "stdout",
     "output_type": "stream",
     "text": [
      "Erwartungsnutzen\n"
     ]
    },
    {
     "data": {
      "application/vnd.jupyter.widget-view+json": {
       "model_id": "fa37daf79e84498a9f0394447cf4e1b6",
       "version_major": 2,
       "version_minor": 0
      },
      "text/plain": [
       "interactive(children=(FloatSlider(value=0.0, description='p', max=1.0), Output()), _dom_classes=('widget-inter…"
      ]
     },
     "metadata": {},
     "output_type": "display_data"
    },
    {
     "name": "stdout",
     "output_type": "stream",
     "text": [
      "Erwartungsnutzen \n"
     ]
    }
   ],
   "source": [
    "def f(p):\n",
    "    return (p*10 + (1-p)*100)**(0.5)\n",
    "\n",
    "def g(p):\n",
    "    return (p*1000 + (1-p)*100)**(0.5)\n",
    " \n",
    "interact(f, p=(0, 1, 0.1));\n",
    "print('Erwartungsnutzen')\n",
    "\n",
    "interact(g, p=(0, 1, 0.1));\n",
    "print('Erwartungsnutzen ')"
   ]
  },
  {
   "cell_type": "markdown",
   "id": "a7d10f8a-3884-40f1-9a02-a992e31584c9",
   "metadata": {},
   "source": [
    "Wie sind die Risikopräferenzen des hier dargestellten Individuums? Woran lässt sich das erkennen?"
   ]
  },
  {
   "cell_type": "markdown",
   "id": "920c6d33-b529-411e-a66e-fba7b0e78658",
   "metadata": {},
   "source": [
    "## Aufgabe 2"
   ]
  },
  {
   "cell_type": "markdown",
   "id": "85e8bd57-61ec-4ce3-8087-0120cefa513b",
   "metadata": {},
   "source": [
    "Nun gehen wir davon aus, das nicht das Wetter, sondern der Anteil an reichen und armen Menschen in der Gesamtbevölkerung die Wahrscheinlichkeit $p$ des Individuums beeinflusst.\n",
    "\n",
    "Je höher der Anteil an armen Menschen in der Bevölkerung, desto höher die Wahrscheinlichkeit für Individuum $i$ ebenfalls zu dieser Gruppe zu gehören.\n",
    "\n",
    "\n",
    "Individuen haben eine gewisse Wahrscheinlichkeit $p$ arm zu sein. Diese Wahrscheinlichkeit entspricht dem Verhältniss von aremen und reichen Personen.\n",
    "$ p = \\frac{r}{a+r}$\n",
    "\n",
    "In Deutschland gilt eine Person als Armutsgefährdet, wenn sie über weinger als 60 % des mittleren Einkommens der Gesamtbevölkerung verfügt. Nutzen Sie unternstehende Grafik, um die Höhe des mittleren Einkommens der Gesamtbevölkerung zu bestimmen."
   ]
  },
  {
   "cell_type": "code",
   "execution_count": 178,
   "id": "9f4a206e-375a-45f1-8b0b-46a86a17e48d",
   "metadata": {},
   "outputs": [
    {
     "data": {
      "text/html": [
       "<iframe width=\"100%\" height=\"900\" src=\"https://www.iwkoeln.de/fileadmin/user_upload/HTML/2021/Einkommensverteilung/index.html\" frameborder=\"0\" allowfullscreen></iframe>"
      ],
      "text/plain": [
       "<IPython.core.display.HTML object>"
      ]
     },
     "execution_count": 178,
     "metadata": {},
     "output_type": "execute_result"
    }
   ],
   "source": [
    "from IPython.core.display import HTML\n",
    "HTML('<iframe width=\"100%\" height=\"900\" src=\"https://www.iwkoeln.de/fileadmin/user_upload/HTML/2021/Einkommensverteilung/index.html\" frameborder=\"0\" allowfullscreen></iframe>')"
   ]
  },
  {
   "cell_type": "markdown",
   "id": "9a9a0fbb-281a-41e8-aa32-6c0195d8324d",
   "metadata": {},
   "source": [
    "Das mittlere Einkommen der Gesamtbevölkerung ist laut untenstehender Grafik 2.028. 60% diese Einkommens entsprechen also 1.222 Euro. Wie hoch ist der Anteil an Menschen, die weniger als dieses Einkommen zur Verfügung haben?\n",
    "\n",
    "16% der Gesamtbevölkerung. Somit gilt $p = 0,16%$"
   ]
  },
  {
   "cell_type": "code",
   "execution_count": 192,
   "id": "8ec0d3ef-5df2-4a1a-8154-d51907655238",
   "metadata": {},
   "outputs": [
    {
     "data": {
      "text/html": [
       "<a href=\"https://www.destatis.de/DE/Presse/Pressemitteilungen/2022/08/PD22_327_634.html\">Mehr Infos zum Relativen Armutsrisiko</a>\n"
      ],
      "text/plain": [
       "<IPython.core.display.HTML object>"
      ]
     },
     "metadata": {},
     "output_type": "display_data"
    }
   ],
   "source": [
    "%%html\n",
    "<a href=\"https://www.destatis.de/DE/Presse/Pressemitteilungen/2022/08/PD22_327_634.html\">Mehr Infos zum Relativen Armutsrisiko</a>"
   ]
  },
  {
   "cell_type": "markdown",
   "id": "8d7e430a-db95-430c-8c75-52c49316acd1",
   "metadata": {},
   "source": [
    "## Aufgabe 3 \n",
    "\n",
    "Der Staat entschließt sich, in die Einkommensverteilung einzugreifen. Individuen mit geringenm einkommen $y_u$ erhalten einen Transfer $B$. Diesen Transfer müssen Individuen mit hohen Einkommen $y_o$ durch Abgaben $T$ finanzieren. Daher gilt $rT=aB$\n",
    "\n",
    "Jedes Individuum hat eine Vorstellung davon, wie hoch $B$ und $T$ sein sollten. \n",
    "\n"
   ]
  },
  {
   "cell_type": "markdown",
   "id": "442c4526-a6fb-4308-b4eb-e199e4c92748",
   "metadata": {
    "tags": []
   },
   "source": [
    "Der Nutzen des Individuum hängt von $B$ und $T$ ab. Jedes Individuum hält die Transfers und Abgaben für ideal, die seinen eigenen Nutzen maximieren. Nutzen Sie den slider um die für Bruno optimale Steuerlast zu finden."
   ]
  },
  {
   "cell_type": "code",
   "execution_count": 191,
   "id": "4247e0d8-2b64-471b-a3e5-0d22a0f38fd1",
   "metadata": {},
   "outputs": [
    {
     "data": {
      "application/vnd.jupyter.widget-view+json": {
       "model_id": "236bc019ee654b6e803fa90e9ee1dab1",
       "version_major": 2,
       "version_minor": 0
      },
      "text/plain": [
       "interactive(children=(IntSlider(value=500, description='T', max=1000), Output()), _dom_classes=('widget-intera…"
      ]
     },
     "metadata": {},
     "output_type": "display_data"
    },
    {
     "name": "stdout",
     "output_type": "stream",
     "text": [
      "Nutzen\n"
     ]
    }
   ],
   "source": [
    "def f(T):\n",
    "    return (0.84*(1000 - T)**0.5 + (1 - 0.84)*(100 + (0.84/0.16)*T)**0.5)\n",
    "\n",
    "\n",
    "\n",
    "interact(f, T=(0, 1000));\n",
    "print('Nutzen')\n"
   ]
  },
  {
   "cell_type": "markdown",
   "id": "a58d5145-c185-4ac8-94c7-dd6cc2b16271",
   "metadata": {},
   "source": [
    "Berechnen Sie den optimalpunkt manuell."
   ]
  },
  {
   "cell_type": "code",
   "execution_count": 75,
   "id": "06150f80-32a2-4631-873f-40f0a34eec5e",
   "metadata": {},
   "outputs": [
    {
     "data": {
      "application/vnd.jupyter.widget-view+json": {
       "model_id": "8b395179bd5c4283901339ca71743e82",
       "version_major": 2,
       "version_minor": 0
      },
      "text/plain": [
       "Tab(children=(Accordion(children=(Label(value='$$ U = p \\\\overline{U} ( \\\\overline{y} - T) + (1-p) \\\\underline…"
      ]
     },
     "execution_count": 75,
     "metadata": {},
     "output_type": "execute_result"
    }
   ],
   "source": [
    "accordion = widgets.Accordion([\n",
    "    widgets.Label(\n",
    "        value=\"$$ U = p \\overline{U} ( \\overline{y} - T) + (1-p) \\\\underline{U}( \\\\overline{y} + B) $$\",\n",
    "        placeholder='Some LaTeX',\n",
    "        description='Some LaTeX',\n",
    "        disabled=False\n",
    "    ),\n",
    "    widgets.Label(\n",
    "        value=\"$$ U = p \\overline{U} ( \\overline{y} - T) + (1-p) \\\\underline{U}( \\\\overline{y} + B) $$\",\n",
    "        placeholder='Some LaTeX',\n",
    "        description='Some LaTeX',\n",
    "        disabled=False\n",
    "    ),\n",
    "    widgets.Label(\n",
    "        value=\"$$ U = p \\overline{U} ( \\overline{y} - T) + (1-p) \\\\underline{U}( \\\\overline{y} + B) $$\",\n",
    "        placeholder='Some LaTeX',\n",
    "        description='Some LaTeX',\n",
    "        disabled=False\n",
    ")])\n",
    "accordion.set_title(0, 'Schritt 1: Nutzenfunktion aufstellen')\n",
    "accordion.set_title(1, 'Schritt 2: Ableitung bilden')\n",
    "accordion.set_title(2, 'Schritt 3: Auflösen')\n",
    "accordion\n",
    "\n",
    "\n",
    "accordion2 = widgets.Accordion([\n",
    "    widgets.Label(\n",
    "        value=\"$$ U = 0.5 ( 100 - T)^{0.5} + (1-0.5) ( 10 + T)^{0.5} $$\",\n",
    "        placeholder='Some LaTeX',\n",
    "        description='Some LaTeX',\n",
    "        disabled=False\n",
    "    ),\n",
    "    widgets.Label(\n",
    "        value=\"$$ U = p \\overline{U} ( \\overline{y} - T) + (1-p) \\\\underline{U}( \\\\overline{y} + B) $$\",\n",
    "        placeholder='Some LaTeX',\n",
    "        description='Some LaTeX',\n",
    "        disabled=False\n",
    "    ),\n",
    "    widgets.Label(\n",
    "        value=\"$$ U = p \\overline{U} ( \\overline{y} - T) + (1-p) \\\\underline{U}( \\\\overline{y} + B) $$\",\n",
    "        placeholder='Some LaTeX',\n",
    "        description='Some LaTeX',\n",
    "        disabled=False\n",
    ")])\n",
    "accordion2.set_title(0, 'Schritt 1: Nutzenfunktion aufstellen')\n",
    "accordion2.set_title(1, 'Schritt 2: Ableitung bilden')\n",
    "accordion2.set_title(2, 'Schritt 3: Auflösen')\n",
    "accordion2\n",
    "\n",
    "\n",
    "\n",
    "\n",
    "tab_nest = widgets.Tab()\n",
    "tab_nest.children = [accordion, accordion2]\n",
    "tab_nest.set_title(0, 'Allgemein')\n",
    "tab_nest.set_title(1, 'Mit Werten')\n",
    "tab_nest\n",
    "\n",
    "\n",
    "\n",
    "\n",
    "\n"
   ]
  },
  {
   "cell_type": "code",
   "execution_count": null,
   "id": "608e8bdb-386e-44be-9457-edeb332a4782",
   "metadata": {},
   "outputs": [],
   "source": []
  },
  {
   "cell_type": "code",
   "execution_count": null,
   "id": "15ab8cb6-5176-4d9b-84c5-88f94624cadf",
   "metadata": {},
   "outputs": [],
   "source": []
  },
  {
   "cell_type": "code",
   "execution_count": null,
   "id": "94bcb18f-b07b-4fc2-a6a9-927967f7738e",
   "metadata": {},
   "outputs": [],
   "source": []
  },
  {
   "cell_type": "code",
   "execution_count": null,
   "id": "f50bfb19-53d0-4e7b-87c0-0351b52998c9",
   "metadata": {},
   "outputs": [],
   "source": []
  },
  {
   "cell_type": "code",
   "execution_count": null,
   "id": "37d12e27-2d51-47ad-9d9e-93a2c812a239",
   "metadata": {},
   "outputs": [],
   "source": []
  },
  {
   "cell_type": "code",
   "execution_count": null,
   "id": "114cb769-5bc9-456f-8635-36f986213d6b",
   "metadata": {},
   "outputs": [],
   "source": []
  }
 ],
 "metadata": {
  "kernelspec": {
   "display_name": "Python 3 (ipykernel)",
   "language": "python",
   "name": "python3"
  },
  "language_info": {
   "codemirror_mode": {
    "name": "ipython",
    "version": 3
   },
   "file_extension": ".py",
   "mimetype": "text/x-python",
   "name": "python",
   "nbconvert_exporter": "python",
   "pygments_lexer": "ipython3",
   "version": "3.7.3"
  }
 },
 "nbformat": 4,
 "nbformat_minor": 5
}
